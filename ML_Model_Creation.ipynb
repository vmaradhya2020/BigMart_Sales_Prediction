{
 "cells": [
  {
   "cell_type": "code",
   "execution_count": null,
   "id": "26a1f28c-e902-4fc2-a298-930188689d7d",
   "metadata": {
    "id": "26a1f28c-e902-4fc2-a298-930188689d7d"
   },
   "outputs": [
    {
     "ename": "",
     "evalue": "",
     "output_type": "error",
     "traceback": [
      "\u001b[1;31mRunning cells with 'agenticenv (Python 3.12.0)' requires the ipykernel package.\n",
      "\u001b[1;31m<a href='command:jupyter.createPythonEnvAndSelectController'>Create a Python Environment</a> with the required packages."
     ]
    }
   ],
   "source": [
    "# Importing important libraries\n",
    "import numpy as np\n",
    "import pandas as pd\n",
    "import matplotlib.pyplot as plt\n",
    "import seaborn as sns\n",
    "import pymysql\n",
    "from sklearn.model_selection import train_test_split\n",
    "from sklearn.ensemble import GradientBoostingRegressor\n",
    "from sklearn.linear_model import LinearRegression\n",
    "from sklearn import metrics\n",
    "from sklearn.preprocessing import OneHotEncoder\n",
    "from sklearn.compose import ColumnTransformer\n",
    "from sklearn.pipeline import Pipeline\n",
    "import pickle\n",
    "import warnings\n",
    "warnings.filterwarnings('ignore')"
   ]
  },
  {
   "cell_type": "code",
   "execution_count": null,
   "id": "b0b8720d-0f7e-430d-8c4a-c7a1f7296b80",
   "metadata": {
    "id": "b0b8720d-0f7e-430d-8c4a-c7a1f7296b80"
   },
   "outputs": [],
   "source": [
    "# Creating connection to MySQL Database\n",
    "connection = pymysql.connect(\n",
    "    host = 'localhost',\n",
    "    user = 'root',\n",
    "    password = 'demo@123', # Use your own password here\n",
    "    database = 'BigMart'\n",
    ")"
   ]
  },
  {
   "cell_type": "code",
   "execution_count": null,
   "id": "55594277-0c2d-4075-b2a4-92394c2bb33e",
   "metadata": {
    "id": "55594277-0c2d-4075-b2a4-92394c2bb33e",
    "outputId": "89e39710-ce8f-46db-b568-f779e96b247c"
   },
   "outputs": [
    {
     "data": {
      "text/html": [
       "<div>\n",
       "<style scoped>\n",
       "    .dataframe tbody tr th:only-of-type {\n",
       "        vertical-align: middle;\n",
       "    }\n",
       "\n",
       "    .dataframe tbody tr th {\n",
       "        vertical-align: top;\n",
       "    }\n",
       "\n",
       "    .dataframe thead th {\n",
       "        text-align: right;\n",
       "    }\n",
       "</style>\n",
       "<table border=\"1\" class=\"dataframe\">\n",
       "  <thead>\n",
       "    <tr style=\"text-align: right;\">\n",
       "      <th></th>\n",
       "      <th>ID</th>\n",
       "      <th>Item_Identifier</th>\n",
       "      <th>Item_Weight</th>\n",
       "      <th>Item_Fat_Content</th>\n",
       "      <th>Item_Visibility</th>\n",
       "      <th>Item_Type</th>\n",
       "      <th>Item_MRP</th>\n",
       "    </tr>\n",
       "  </thead>\n",
       "  <tbody>\n",
       "    <tr>\n",
       "      <th>0</th>\n",
       "      <td>1</td>\n",
       "      <td>FDA15</td>\n",
       "      <td>9.30</td>\n",
       "      <td>Low Fat</td>\n",
       "      <td>0.016047</td>\n",
       "      <td>Dairy</td>\n",
       "      <td>249.8090</td>\n",
       "    </tr>\n",
       "    <tr>\n",
       "      <th>1</th>\n",
       "      <td>2</td>\n",
       "      <td>DRC01</td>\n",
       "      <td>5.92</td>\n",
       "      <td>Regular</td>\n",
       "      <td>0.019278</td>\n",
       "      <td>Soft Drinks</td>\n",
       "      <td>48.2692</td>\n",
       "    </tr>\n",
       "    <tr>\n",
       "      <th>2</th>\n",
       "      <td>3</td>\n",
       "      <td>FDN15</td>\n",
       "      <td>17.50</td>\n",
       "      <td>Low Fat</td>\n",
       "      <td>0.016760</td>\n",
       "      <td>Meat</td>\n",
       "      <td>141.6180</td>\n",
       "    </tr>\n",
       "    <tr>\n",
       "      <th>3</th>\n",
       "      <td>4</td>\n",
       "      <td>FDX07</td>\n",
       "      <td>19.20</td>\n",
       "      <td>Regular</td>\n",
       "      <td>0.000000</td>\n",
       "      <td>Fruits and Vegetables</td>\n",
       "      <td>182.0950</td>\n",
       "    </tr>\n",
       "    <tr>\n",
       "      <th>4</th>\n",
       "      <td>5</td>\n",
       "      <td>NCD19</td>\n",
       "      <td>8.93</td>\n",
       "      <td>Low Fat</td>\n",
       "      <td>0.000000</td>\n",
       "      <td>Household</td>\n",
       "      <td>53.8614</td>\n",
       "    </tr>\n",
       "  </tbody>\n",
       "</table>\n",
       "</div>"
      ],
      "text/plain": [
       "   ID Item_Identifier  Item_Weight Item_Fat_Content  Item_Visibility  \\\n",
       "0   1           FDA15         9.30          Low Fat         0.016047   \n",
       "1   2           DRC01         5.92          Regular         0.019278   \n",
       "2   3           FDN15        17.50          Low Fat         0.016760   \n",
       "3   4           FDX07        19.20          Regular         0.000000   \n",
       "4   5           NCD19         8.93          Low Fat         0.000000   \n",
       "\n",
       "               Item_Type  Item_MRP  \n",
       "0                  Dairy  249.8090  \n",
       "1            Soft Drinks   48.2692  \n",
       "2                   Meat  141.6180  \n",
       "3  Fruits and Vegetables  182.0950  \n",
       "4              Household   53.8614  "
      ]
     },
     "execution_count": 3,
     "metadata": {},
     "output_type": "execute_result"
    }
   ],
   "source": [
    "# Getting the data\n",
    "df_item = pd.read_sql(\"SELECT * FROM item_info\", connection)\n",
    "df_item.head()"
   ]
  },
  {
   "cell_type": "code",
   "execution_count": null,
   "id": "3c11cada-4673-49b5-981a-0c5b819fc24d",
   "metadata": {
    "id": "3c11cada-4673-49b5-981a-0c5b819fc24d",
    "outputId": "17719969-3d87-4177-f388-08b518b7e22c"
   },
   "outputs": [
    {
     "data": {
      "text/html": [
       "<div>\n",
       "<style scoped>\n",
       "    .dataframe tbody tr th:only-of-type {\n",
       "        vertical-align: middle;\n",
       "    }\n",
       "\n",
       "    .dataframe tbody tr th {\n",
       "        vertical-align: top;\n",
       "    }\n",
       "\n",
       "    .dataframe thead th {\n",
       "        text-align: right;\n",
       "    }\n",
       "</style>\n",
       "<table border=\"1\" class=\"dataframe\">\n",
       "  <thead>\n",
       "    <tr style=\"text-align: right;\">\n",
       "      <th></th>\n",
       "      <th>ID</th>\n",
       "      <th>Outlet_Identifier</th>\n",
       "      <th>Outlet_Establishment_Year</th>\n",
       "      <th>Outlet_Size</th>\n",
       "      <th>Outlet_Location_Type</th>\n",
       "      <th>Outlet_Type</th>\n",
       "    </tr>\n",
       "  </thead>\n",
       "  <tbody>\n",
       "    <tr>\n",
       "      <th>0</th>\n",
       "      <td>1</td>\n",
       "      <td>OUT049</td>\n",
       "      <td>1999</td>\n",
       "      <td>Medium</td>\n",
       "      <td>Tier 1</td>\n",
       "      <td>Supermarket Type1</td>\n",
       "    </tr>\n",
       "    <tr>\n",
       "      <th>1</th>\n",
       "      <td>2</td>\n",
       "      <td>OUT018</td>\n",
       "      <td>2009</td>\n",
       "      <td>Medium</td>\n",
       "      <td>Tier 3</td>\n",
       "      <td>Supermarket Type2</td>\n",
       "    </tr>\n",
       "    <tr>\n",
       "      <th>2</th>\n",
       "      <td>3</td>\n",
       "      <td>OUT049</td>\n",
       "      <td>1999</td>\n",
       "      <td>Medium</td>\n",
       "      <td>Tier 1</td>\n",
       "      <td>Supermarket Type1</td>\n",
       "    </tr>\n",
       "    <tr>\n",
       "      <th>3</th>\n",
       "      <td>4</td>\n",
       "      <td>OUT010</td>\n",
       "      <td>1998</td>\n",
       "      <td>Medium</td>\n",
       "      <td>Tier 3</td>\n",
       "      <td>Grocery Store</td>\n",
       "    </tr>\n",
       "    <tr>\n",
       "      <th>4</th>\n",
       "      <td>5</td>\n",
       "      <td>OUT013</td>\n",
       "      <td>1987</td>\n",
       "      <td>High</td>\n",
       "      <td>Tier 3</td>\n",
       "      <td>Supermarket Type1</td>\n",
       "    </tr>\n",
       "  </tbody>\n",
       "</table>\n",
       "</div>"
      ],
      "text/plain": [
       "   ID Outlet_Identifier  Outlet_Establishment_Year Outlet_Size  \\\n",
       "0   1            OUT049                       1999      Medium   \n",
       "1   2            OUT018                       2009      Medium   \n",
       "2   3            OUT049                       1999      Medium   \n",
       "3   4            OUT010                       1998      Medium   \n",
       "4   5            OUT013                       1987        High   \n",
       "\n",
       "  Outlet_Location_Type        Outlet_Type  \n",
       "0               Tier 1  Supermarket Type1  \n",
       "1               Tier 3  Supermarket Type2  \n",
       "2               Tier 1  Supermarket Type1  \n",
       "3               Tier 3      Grocery Store  \n",
       "4               Tier 3  Supermarket Type1  "
      ]
     },
     "execution_count": 4,
     "metadata": {},
     "output_type": "execute_result"
    }
   ],
   "source": [
    "# Getting the data\n",
    "df_outlet = pd.read_sql(\"SELECT * FROM outlet_info\", connection)\n",
    "df_outlet.head()"
   ]
  },
  {
   "cell_type": "code",
   "execution_count": null,
   "id": "308fafb4-4ed4-437d-b222-6fbb014a5772",
   "metadata": {
    "id": "308fafb4-4ed4-437d-b222-6fbb014a5772",
    "outputId": "ed102e21-c14c-4854-b2b1-64aee217a274"
   },
   "outputs": [
    {
     "data": {
      "text/html": [
       "<div>\n",
       "<style scoped>\n",
       "    .dataframe tbody tr th:only-of-type {\n",
       "        vertical-align: middle;\n",
       "    }\n",
       "\n",
       "    .dataframe tbody tr th {\n",
       "        vertical-align: top;\n",
       "    }\n",
       "\n",
       "    .dataframe thead th {\n",
       "        text-align: right;\n",
       "    }\n",
       "</style>\n",
       "<table border=\"1\" class=\"dataframe\">\n",
       "  <thead>\n",
       "    <tr style=\"text-align: right;\">\n",
       "      <th></th>\n",
       "      <th>ID</th>\n",
       "      <th>Item_Outlet_Sales</th>\n",
       "    </tr>\n",
       "  </thead>\n",
       "  <tbody>\n",
       "    <tr>\n",
       "      <th>0</th>\n",
       "      <td>1</td>\n",
       "      <td>3735.140</td>\n",
       "    </tr>\n",
       "    <tr>\n",
       "      <th>1</th>\n",
       "      <td>2</td>\n",
       "      <td>443.423</td>\n",
       "    </tr>\n",
       "    <tr>\n",
       "      <th>2</th>\n",
       "      <td>3</td>\n",
       "      <td>2097.270</td>\n",
       "    </tr>\n",
       "    <tr>\n",
       "      <th>3</th>\n",
       "      <td>4</td>\n",
       "      <td>732.380</td>\n",
       "    </tr>\n",
       "    <tr>\n",
       "      <th>4</th>\n",
       "      <td>5</td>\n",
       "      <td>994.705</td>\n",
       "    </tr>\n",
       "  </tbody>\n",
       "</table>\n",
       "</div>"
      ],
      "text/plain": [
       "   ID  Item_Outlet_Sales\n",
       "0   1           3735.140\n",
       "1   2            443.423\n",
       "2   3           2097.270\n",
       "3   4            732.380\n",
       "4   5            994.705"
      ]
     },
     "execution_count": 5,
     "metadata": {},
     "output_type": "execute_result"
    }
   ],
   "source": [
    "# Getting the data\n",
    "df_sales = pd.read_sql(\"SELECT * FROM sales_info\", connection)\n",
    "connection.close()\n",
    "df_sales.head()"
   ]
  },
  {
   "cell_type": "code",
   "execution_count": null,
   "id": "28b28bf1-afc4-4c77-8e13-13e62cdb707c",
   "metadata": {
    "id": "28b28bf1-afc4-4c77-8e13-13e62cdb707c",
    "outputId": "d03963b3-6193-4e1f-954c-0d68c22d31de"
   },
   "outputs": [
    {
     "data": {
      "text/html": [
       "<div>\n",
       "<style scoped>\n",
       "    .dataframe tbody tr th:only-of-type {\n",
       "        vertical-align: middle;\n",
       "    }\n",
       "\n",
       "    .dataframe tbody tr th {\n",
       "        vertical-align: top;\n",
       "    }\n",
       "\n",
       "    .dataframe thead th {\n",
       "        text-align: right;\n",
       "    }\n",
       "</style>\n",
       "<table border=\"1\" class=\"dataframe\">\n",
       "  <thead>\n",
       "    <tr style=\"text-align: right;\">\n",
       "      <th></th>\n",
       "      <th>Item_Identifier</th>\n",
       "      <th>Item_Weight</th>\n",
       "      <th>Item_Fat_Content</th>\n",
       "      <th>Item_Visibility</th>\n",
       "      <th>Item_Type</th>\n",
       "      <th>Item_MRP</th>\n",
       "      <th>Outlet_Identifier</th>\n",
       "      <th>Outlet_Establishment_Year</th>\n",
       "      <th>Outlet_Size</th>\n",
       "      <th>Outlet_Location_Type</th>\n",
       "      <th>Outlet_Type</th>\n",
       "      <th>Item_Outlet_Sales</th>\n",
       "    </tr>\n",
       "  </thead>\n",
       "  <tbody>\n",
       "    <tr>\n",
       "      <th>0</th>\n",
       "      <td>FDA15</td>\n",
       "      <td>9.30</td>\n",
       "      <td>Low Fat</td>\n",
       "      <td>0.016047</td>\n",
       "      <td>Dairy</td>\n",
       "      <td>249.8090</td>\n",
       "      <td>OUT049</td>\n",
       "      <td>1999</td>\n",
       "      <td>Medium</td>\n",
       "      <td>Tier 1</td>\n",
       "      <td>Supermarket Type1</td>\n",
       "      <td>3735.140</td>\n",
       "    </tr>\n",
       "    <tr>\n",
       "      <th>1</th>\n",
       "      <td>DRC01</td>\n",
       "      <td>5.92</td>\n",
       "      <td>Regular</td>\n",
       "      <td>0.019278</td>\n",
       "      <td>Soft Drinks</td>\n",
       "      <td>48.2692</td>\n",
       "      <td>OUT018</td>\n",
       "      <td>2009</td>\n",
       "      <td>Medium</td>\n",
       "      <td>Tier 3</td>\n",
       "      <td>Supermarket Type2</td>\n",
       "      <td>443.423</td>\n",
       "    </tr>\n",
       "    <tr>\n",
       "      <th>2</th>\n",
       "      <td>FDN15</td>\n",
       "      <td>17.50</td>\n",
       "      <td>Low Fat</td>\n",
       "      <td>0.016760</td>\n",
       "      <td>Meat</td>\n",
       "      <td>141.6180</td>\n",
       "      <td>OUT049</td>\n",
       "      <td>1999</td>\n",
       "      <td>Medium</td>\n",
       "      <td>Tier 1</td>\n",
       "      <td>Supermarket Type1</td>\n",
       "      <td>2097.270</td>\n",
       "    </tr>\n",
       "    <tr>\n",
       "      <th>3</th>\n",
       "      <td>FDX07</td>\n",
       "      <td>19.20</td>\n",
       "      <td>Regular</td>\n",
       "      <td>0.000000</td>\n",
       "      <td>Fruits and Vegetables</td>\n",
       "      <td>182.0950</td>\n",
       "      <td>OUT010</td>\n",
       "      <td>1998</td>\n",
       "      <td>Medium</td>\n",
       "      <td>Tier 3</td>\n",
       "      <td>Grocery Store</td>\n",
       "      <td>732.380</td>\n",
       "    </tr>\n",
       "    <tr>\n",
       "      <th>4</th>\n",
       "      <td>NCD19</td>\n",
       "      <td>8.93</td>\n",
       "      <td>Low Fat</td>\n",
       "      <td>0.000000</td>\n",
       "      <td>Household</td>\n",
       "      <td>53.8614</td>\n",
       "      <td>OUT013</td>\n",
       "      <td>1987</td>\n",
       "      <td>High</td>\n",
       "      <td>Tier 3</td>\n",
       "      <td>Supermarket Type1</td>\n",
       "      <td>994.705</td>\n",
       "    </tr>\n",
       "  </tbody>\n",
       "</table>\n",
       "</div>"
      ],
      "text/plain": [
       "  Item_Identifier  Item_Weight Item_Fat_Content  Item_Visibility  \\\n",
       "0           FDA15         9.30          Low Fat         0.016047   \n",
       "1           DRC01         5.92          Regular         0.019278   \n",
       "2           FDN15        17.50          Low Fat         0.016760   \n",
       "3           FDX07        19.20          Regular         0.000000   \n",
       "4           NCD19         8.93          Low Fat         0.000000   \n",
       "\n",
       "               Item_Type  Item_MRP Outlet_Identifier  \\\n",
       "0                  Dairy  249.8090            OUT049   \n",
       "1            Soft Drinks   48.2692            OUT018   \n",
       "2                   Meat  141.6180            OUT049   \n",
       "3  Fruits and Vegetables  182.0950            OUT010   \n",
       "4              Household   53.8614            OUT013   \n",
       "\n",
       "   Outlet_Establishment_Year Outlet_Size Outlet_Location_Type  \\\n",
       "0                       1999      Medium               Tier 1   \n",
       "1                       2009      Medium               Tier 3   \n",
       "2                       1999      Medium               Tier 1   \n",
       "3                       1998      Medium               Tier 3   \n",
       "4                       1987        High               Tier 3   \n",
       "\n",
       "         Outlet_Type  Item_Outlet_Sales  \n",
       "0  Supermarket Type1           3735.140  \n",
       "1  Supermarket Type2            443.423  \n",
       "2  Supermarket Type1           2097.270  \n",
       "3      Grocery Store            732.380  \n",
       "4  Supermarket Type1            994.705  "
      ]
     },
     "execution_count": 6,
     "metadata": {},
     "output_type": "execute_result"
    }
   ],
   "source": [
    "# Getting the data into a common dataframe\n",
    "df = df_item.merge(df_outlet, on = 'ID').merge(df_sales, on = 'ID')\n",
    "df = df.drop('ID', axis = 1)\n",
    "df.head()"
   ]
  },
  {
   "cell_type": "code",
   "execution_count": null,
   "id": "ef53618f-e412-417b-b05e-13dd8a5ec2d7",
   "metadata": {
    "id": "ef53618f-e412-417b-b05e-13dd8a5ec2d7",
    "outputId": "fa4d21c1-ab5b-4b27-e451-4cea1d7fe6d2"
   },
   "outputs": [
    {
     "data": {
      "text/plain": [
       "0"
      ]
     },
     "execution_count": 7,
     "metadata": {},
     "output_type": "execute_result"
    }
   ],
   "source": [
    "# Getting an idea about the duplicates in the data\n",
    "df.duplicated().sum()"
   ]
  },
  {
   "cell_type": "code",
   "execution_count": null,
   "id": "bcbcf55c-5551-48d3-a621-32064cb28de3",
   "metadata": {
    "id": "bcbcf55c-5551-48d3-a621-32064cb28de3"
   },
   "outputs": [],
   "source": [
    "# 0 means that there are no duplicates in the data."
   ]
  },
  {
   "cell_type": "code",
   "execution_count": null,
   "id": "9694ea92-7771-4c4b-be4d-71f49b630f19",
   "metadata": {
    "id": "9694ea92-7771-4c4b-be4d-71f49b630f19",
    "outputId": "9b5291be-6fb8-446c-cf20-eb98da1db0b7"
   },
   "outputs": [
    {
     "name": "stdout",
     "output_type": "stream",
     "text": [
      "Shape : (8523, 12)\n",
      "Number of rows : 8523\n",
      "Number of columns : 12\n"
     ]
    }
   ],
   "source": [
    "# Getting an idea about the shape of the data\n",
    "print('Shape :', df.shape)\n",
    "print('Number of rows :', df.shape[0])\n",
    "print('Number of columns :', df.shape[1])"
   ]
  },
  {
   "cell_type": "code",
   "execution_count": null,
   "id": "bdfa2abe-166b-41b9-8a9e-a05cc36f2f2e",
   "metadata": {
    "id": "bdfa2abe-166b-41b9-8a9e-a05cc36f2f2e",
    "outputId": "01ed1947-3ce3-4259-9fa0-49f788328966"
   },
   "outputs": [
    {
     "data": {
      "text/plain": [
       "False"
      ]
     },
     "execution_count": 9,
     "metadata": {},
     "output_type": "execute_result"
    }
   ],
   "source": [
    "# Getting an idea about NULL values\n",
    "df.isnull().sum().any()"
   ]
  },
  {
   "cell_type": "code",
   "execution_count": null,
   "id": "3f803ec0-08ab-430e-a4d0-d6c96fc28c18",
   "metadata": {
    "id": "3f803ec0-08ab-430e-a4d0-d6c96fc28c18"
   },
   "outputs": [],
   "source": [
    "# False means that there are no NULL values in the dataset."
   ]
  },
  {
   "cell_type": "code",
   "execution_count": null,
   "id": "e6d7947f-0c0c-4aec-af84-dfbeae98748c",
   "metadata": {
    "id": "e6d7947f-0c0c-4aec-af84-dfbeae98748c",
    "outputId": "e2030296-77cb-49e3-dc7e-84c5c91adc43"
   },
   "outputs": [
    {
     "data": {
      "text/html": [
       "<div>\n",
       "<style scoped>\n",
       "    .dataframe tbody tr th:only-of-type {\n",
       "        vertical-align: middle;\n",
       "    }\n",
       "\n",
       "    .dataframe tbody tr th {\n",
       "        vertical-align: top;\n",
       "    }\n",
       "\n",
       "    .dataframe thead th {\n",
       "        text-align: right;\n",
       "    }\n",
       "</style>\n",
       "<table border=\"1\" class=\"dataframe\">\n",
       "  <thead>\n",
       "    <tr style=\"text-align: right;\">\n",
       "      <th></th>\n",
       "      <th>Item_Identifier</th>\n",
       "      <th>Item_Weight</th>\n",
       "      <th>Item_Fat_Content</th>\n",
       "      <th>Item_Visibility</th>\n",
       "      <th>Item_Type</th>\n",
       "      <th>Item_MRP</th>\n",
       "      <th>Outlet_Identifier</th>\n",
       "      <th>Outlet_Size</th>\n",
       "      <th>Outlet_Location_Type</th>\n",
       "      <th>Outlet_Type</th>\n",
       "      <th>Item_Outlet_Sales</th>\n",
       "      <th>Outlet_Age</th>\n",
       "    </tr>\n",
       "  </thead>\n",
       "  <tbody>\n",
       "    <tr>\n",
       "      <th>0</th>\n",
       "      <td>FDA15</td>\n",
       "      <td>9.30</td>\n",
       "      <td>Low Fat</td>\n",
       "      <td>0.016047</td>\n",
       "      <td>Dairy</td>\n",
       "      <td>249.8090</td>\n",
       "      <td>OUT049</td>\n",
       "      <td>Medium</td>\n",
       "      <td>Tier 1</td>\n",
       "      <td>Supermarket Type1</td>\n",
       "      <td>3735.140</td>\n",
       "      <td>26</td>\n",
       "    </tr>\n",
       "    <tr>\n",
       "      <th>1</th>\n",
       "      <td>DRC01</td>\n",
       "      <td>5.92</td>\n",
       "      <td>Regular</td>\n",
       "      <td>0.019278</td>\n",
       "      <td>Soft Drinks</td>\n",
       "      <td>48.2692</td>\n",
       "      <td>OUT018</td>\n",
       "      <td>Medium</td>\n",
       "      <td>Tier 3</td>\n",
       "      <td>Supermarket Type2</td>\n",
       "      <td>443.423</td>\n",
       "      <td>16</td>\n",
       "    </tr>\n",
       "    <tr>\n",
       "      <th>2</th>\n",
       "      <td>FDN15</td>\n",
       "      <td>17.50</td>\n",
       "      <td>Low Fat</td>\n",
       "      <td>0.016760</td>\n",
       "      <td>Meat</td>\n",
       "      <td>141.6180</td>\n",
       "      <td>OUT049</td>\n",
       "      <td>Medium</td>\n",
       "      <td>Tier 1</td>\n",
       "      <td>Supermarket Type1</td>\n",
       "      <td>2097.270</td>\n",
       "      <td>26</td>\n",
       "    </tr>\n",
       "    <tr>\n",
       "      <th>3</th>\n",
       "      <td>FDX07</td>\n",
       "      <td>19.20</td>\n",
       "      <td>Regular</td>\n",
       "      <td>0.000000</td>\n",
       "      <td>Fruits and Vegetables</td>\n",
       "      <td>182.0950</td>\n",
       "      <td>OUT010</td>\n",
       "      <td>Medium</td>\n",
       "      <td>Tier 3</td>\n",
       "      <td>Grocery Store</td>\n",
       "      <td>732.380</td>\n",
       "      <td>27</td>\n",
       "    </tr>\n",
       "    <tr>\n",
       "      <th>4</th>\n",
       "      <td>NCD19</td>\n",
       "      <td>8.93</td>\n",
       "      <td>Low Fat</td>\n",
       "      <td>0.000000</td>\n",
       "      <td>Household</td>\n",
       "      <td>53.8614</td>\n",
       "      <td>OUT013</td>\n",
       "      <td>High</td>\n",
       "      <td>Tier 3</td>\n",
       "      <td>Supermarket Type1</td>\n",
       "      <td>994.705</td>\n",
       "      <td>38</td>\n",
       "    </tr>\n",
       "  </tbody>\n",
       "</table>\n",
       "</div>"
      ],
      "text/plain": [
       "  Item_Identifier  Item_Weight Item_Fat_Content  Item_Visibility  \\\n",
       "0           FDA15         9.30          Low Fat         0.016047   \n",
       "1           DRC01         5.92          Regular         0.019278   \n",
       "2           FDN15        17.50          Low Fat         0.016760   \n",
       "3           FDX07        19.20          Regular         0.000000   \n",
       "4           NCD19         8.93          Low Fat         0.000000   \n",
       "\n",
       "               Item_Type  Item_MRP Outlet_Identifier Outlet_Size  \\\n",
       "0                  Dairy  249.8090            OUT049      Medium   \n",
       "1            Soft Drinks   48.2692            OUT018      Medium   \n",
       "2                   Meat  141.6180            OUT049      Medium   \n",
       "3  Fruits and Vegetables  182.0950            OUT010      Medium   \n",
       "4              Household   53.8614            OUT013        High   \n",
       "\n",
       "  Outlet_Location_Type        Outlet_Type  Item_Outlet_Sales  Outlet_Age  \n",
       "0               Tier 1  Supermarket Type1           3735.140          26  \n",
       "1               Tier 3  Supermarket Type2            443.423          16  \n",
       "2               Tier 1  Supermarket Type1           2097.270          26  \n",
       "3               Tier 3      Grocery Store            732.380          27  \n",
       "4               Tier 3  Supermarket Type1            994.705          38  "
      ]
     },
     "execution_count": 10,
     "metadata": {},
     "output_type": "execute_result"
    }
   ],
   "source": [
    "# Feature Engineering\n",
    "df['Outlet_Age'] = 2025 - df['Outlet_Establishment_Year']\n",
    "df = df.drop('Outlet_Establishment_Year', axis = 1)\n",
    "df.head()"
   ]
  },
  {
   "cell_type": "code",
   "execution_count": null,
   "id": "2d4b39a1-acb5-4688-b42f-7b7b27ff7f39",
   "metadata": {
    "id": "2d4b39a1-acb5-4688-b42f-7b7b27ff7f39",
    "outputId": "79c93930-bdf4-4d48-af22-4433d38e17d2"
   },
   "outputs": [
    {
     "data": {
      "text/plain": [
       "Item_Fat_Content\n",
       "Low Fat    0.647307\n",
       "Regular    0.352693\n",
       "Name: proportion, dtype: float64"
      ]
     },
     "execution_count": 11,
     "metadata": {},
     "output_type": "execute_result"
    }
   ],
   "source": [
    "# Feature Engineering\n",
    "df['Item_Fat_Content'] = df['Item_Fat_Content'].replace({\n",
    "    'low fat' : 'Low Fat',\n",
    "    'LF' : 'Low Fat',\n",
    "    'reg' : 'Regular'\n",
    "})\n",
    "df['Item_Fat_Content'].value_counts(normalize = True)"
   ]
  },
  {
   "cell_type": "code",
   "execution_count": null,
   "id": "003a533b-7d64-4b23-b877-3a9fdd510539",
   "metadata": {
    "id": "003a533b-7d64-4b23-b877-3a9fdd510539",
    "outputId": "ef59ce8f-6bec-4ddf-ad17-d5643860337b"
   },
   "outputs": [
    {
     "name": "stdout",
     "output_type": "stream",
     "text": [
      "Maximum Value : 0.328391\n",
      "Minimum Value : 0.0\n"
     ]
    }
   ],
   "source": [
    "# Getting the range of 'Item_Visibility'\n",
    "print('Maximum Value :', df['Item_Visibility'].max())\n",
    "print('Minimum Value :', df['Item_Visibility'].min())"
   ]
  },
  {
   "cell_type": "code",
   "execution_count": null,
   "id": "739c9605-058f-46b7-bb6c-97c8c1c53b4e",
   "metadata": {
    "id": "739c9605-058f-46b7-bb6c-97c8c1c53b4e",
    "outputId": "ea601b2c-89b4-44dd-c113-ad8b8e41b353"
   },
   "outputs": [
    {
     "name": "stdout",
     "output_type": "stream",
     "text": [
      "Maximum Value : 0.3\n",
      "Minimum Value : 0.0\n"
     ]
    }
   ],
   "source": [
    "# Capping the values\n",
    "df['Item_Visibility'] = np.where(df['Item_Visibility'] > 0.3, 0.3, df['Item_Visibility'])\n",
    "print('Maximum Value :', df['Item_Visibility'].max())\n",
    "print('Minimum Value :', df['Item_Visibility'].min())"
   ]
  },
  {
   "cell_type": "code",
   "execution_count": null,
   "id": "b19badbe-e60b-45b3-8bab-aed528de19d1",
   "metadata": {
    "id": "b19badbe-e60b-45b3-8bab-aed528de19d1"
   },
   "outputs": [],
   "source": [
    "# Seperating the input features and target variable\n",
    "X = df.drop('Item_Outlet_Sales', axis = 1)\n",
    "y = df['Item_Outlet_Sales']"
   ]
  },
  {
   "cell_type": "code",
   "execution_count": null,
   "id": "4c4167c6-dac6-4484-a210-1b7cc2114839",
   "metadata": {
    "id": "4c4167c6-dac6-4484-a210-1b7cc2114839"
   },
   "outputs": [],
   "source": [
    "# Categorical Columns\n",
    "categorical_cols = X.select_dtypes(include = 'object').columns.tolist()"
   ]
  },
  {
   "cell_type": "code",
   "execution_count": null,
   "id": "4f927107-2c33-4f3b-8364-e3e72c7f490d",
   "metadata": {
    "id": "4f927107-2c33-4f3b-8364-e3e72c7f490d"
   },
   "outputs": [],
   "source": [
    "# Preprocessing Pipeline\n",
    "preprocessor = ColumnTransformer(\n",
    "    transformers = [\n",
    "        ('cat', OneHotEncoder(handle_unknown = 'ignore'), categorical_cols)\n",
    "    ],\n",
    "    remainder = 'passthrough'\n",
    ")"
   ]
  },
  {
   "cell_type": "code",
   "execution_count": null,
   "id": "304841bc-ccdc-4945-948c-5ab4da2ca9b3",
   "metadata": {
    "id": "304841bc-ccdc-4945-948c-5ab4da2ca9b3"
   },
   "outputs": [],
   "source": [
    "# Defining the models\n",
    "from sklearn.ensemble import RandomForestRegressor\n",
    "models = {\n",
    "    'GradientBoosting' : GradientBoostingRegressor(n_estimators = 200, learning_rate = 0.1, random_state = 42),\n",
    "    'RandomForest' : RandomForestRegressor(n_estimators = 200, random_state = 42),\n",
    "    'LinearRegression' : LinearRegression()\n",
    "}"
   ]
  },
  {
   "cell_type": "code",
   "execution_count": null,
   "id": "bff3be80-03ec-40b5-929b-44a75c896041",
   "metadata": {
    "id": "bff3be80-03ec-40b5-929b-44a75c896041"
   },
   "outputs": [],
   "source": [
    "# Performing train test split\n",
    "X_train, X_test, y_train, y_test = train_test_split(X, y, test_size = 0.2, random_state = 42)"
   ]
  },
  {
   "cell_type": "code",
   "execution_count": null,
   "id": "dbbb03d7-7432-4a32-bc97-5ccf8d5ad5c0",
   "metadata": {
    "id": "dbbb03d7-7432-4a32-bc97-5ccf8d5ad5c0",
    "outputId": "b4ac8f81-d32e-40b3-cd87-77693c0c937a"
   },
   "outputs": [
    {
     "name": "stdout",
     "output_type": "stream",
     "text": [
      "\n",
      "GradientBoosting Results :\n",
      "R2 Score :  0.593\n",
      "\n",
      "RandomForest Results :\n",
      "R2 Score :  0.563\n",
      "\n",
      "LinearRegression Results :\n",
      "R2 Score :  0.408\n"
     ]
    }
   ],
   "source": [
    "# Evaluate all the models\n",
    "best_model_name = None\n",
    "best_score = -np.inf\n",
    "best_pipeline = None\n",
    "\n",
    "for name, reg in models.items():\n",
    "    pipeline = Pipeline(steps = [\n",
    "        ('preprocessor', preprocessor),\n",
    "        ('regressor', reg)\n",
    "    ])\n",
    "    pipeline.fit(X_train, y_train)\n",
    "    y_pred = pipeline.predict(X_test)\n",
    "    r2 = np.round(metrics.r2_score(y_test, y_pred), 3)\n",
    "    print(f\"\\n{name} Results :\")\n",
    "    print(f\"R2 Score : {r2 : .3f}\")\n",
    "\n",
    "    if r2 > best_score:\n",
    "        best_score = r2\n",
    "        best_model_name = name\n",
    "        best_pipeline = pipeline"
   ]
  },
  {
   "cell_type": "code",
   "execution_count": null,
   "id": "CXLr4DJKs5k0",
   "metadata": {
    "id": "CXLr4DJKs5k0"
   },
   "outputs": [],
   "source": [
    "# Updating sklearn\n",
    "!pip install --upgrade scikit-learn"
   ]
  },
  {
   "cell_type": "code",
   "execution_count": null,
   "id": "893c2ec7-6461-415e-b490-a9e47175d209",
   "metadata": {
    "id": "893c2ec7-6461-415e-b490-a9e47175d209"
   },
   "outputs": [],
   "source": [
    "# Saving the pickle file format of the best model\n",
    "import sklearn\n",
    "with open('bigmart_best_model.pkl', 'wb') as f:\n",
    "    pickle.dump((best_pipeline, sklearn.__version__), f)"
   ]
  },
  {
   "cell_type": "code",
   "execution_count": null,
   "id": "OmW5KggRvdM8",
   "metadata": {
    "id": "OmW5KggRvdM8"
   },
   "outputs": [],
   "source": [
    "# Saving the pickle file format of the best model (alternative version)\n",
    "import sklearn\n",
    "with open('bigmart_best_model.pkl', 'wb') as f:\n",
    "    pickle.dump(best_pipeline, f)"
   ]
  },
  {
   "cell_type": "code",
   "execution_count": null,
   "id": "cb99e067-0e52-4fb2-a6b6-70ba8286d76b",
   "metadata": {
    "id": "cb99e067-0e52-4fb2-a6b6-70ba8286d76b"
   },
   "outputs": [],
   "source": [
    "'''\n",
    "(1) Edit app.py file and replace the following line after using the alternative code ->\n",
    "model, sklearn_version = pickle.load(f) -> model = pickle.load(f)\n",
    "\n",
    "(2) Try to save the trained ML model using joblib rather than pickle file format.\n",
    "'''"
   ]
  },
  {
   "cell_type": "code",
   "execution_count": null,
   "id": "vyGv3qacv3-Y",
   "metadata": {
    "id": "vyGv3qacv3-Y"
   },
   "outputs": [],
   "source": []
  }
 ],
 "metadata": {
  "colab": {
   "provenance": []
  },
  "kernelspec": {
   "display_name": ".venv (3.10.0)",
   "language": "python",
   "name": "python3"
  },
  "language_info": {
   "codemirror_mode": {
    "name": "ipython",
    "version": 3
   },
   "file_extension": ".py",
   "mimetype": "text/x-python",
   "name": "python",
   "nbconvert_exporter": "python",
   "pygments_lexer": "ipython3",
   "version": "3.10.0"
  }
 },
 "nbformat": 4,
 "nbformat_minor": 5
}
