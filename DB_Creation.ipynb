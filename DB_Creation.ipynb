{
 "cells": [
  {
   "cell_type": "code",
   "execution_count": null,
   "id": "db9c5f63-a877-44bb-ad9f-0c8b1f305bfe",
   "metadata": {},
   "outputs": [],
   "source": [
    "'''\n",
    "Steps to be completed as a prerequisite -> \n",
    "(1) Download the 3 data files and place them in proper location (Maybe create a data engineering folder)\n",
    "(2) Open MySQL Workbemch and login and your server status should be running\n",
    "(3) Open up a new Jupyter Notebook and type the below code\n",
    "'''"
   ]
  },
  {
   "cell_type": "code",
   "execution_count": null,
   "id": "d9571946-1137-433b-829e-9a34fe8c6e8d",
   "metadata": {},
   "outputs": [
    {
     "ename": "",
     "evalue": "",
     "output_type": "error",
     "traceback": [
      "\u001b[1;31mThe kernel failed to start due to the missing module 'asttokens'. Consider installing this module.\n",
      "\u001b[1;31mClick <a href='https://aka.ms/kernelFailuresMissingModule'>here</a> for more info."
     ]
    }
   ],
   "source": [
    "# Importing important libraries\n",
    "import pandas as pd\n",
    "import pymysql"
   ]
  },
  {
   "cell_type": "code",
   "execution_count": 2,
   "id": "4af2038a-39cc-459b-abd4-e37853ef40a0",
   "metadata": {},
   "outputs": [],
   "source": [
    "# MySQL Connection Setup \n",
    "connection = pymysql.connect(\n",
    "    host = 'localhost', \n",
    "    user = 'root',\n",
    "    password = 'demo@123', # Use your own password here\n",
    "    autocommit = True\n",
    ")\n",
    "cursor = connection.cursor()"
   ]
  },
  {
   "cell_type": "code",
   "execution_count": 3,
   "id": "22e409da-206e-44d2-bfa8-e675db5f95a6",
   "metadata": {},
   "outputs": [
    {
     "name": "stdout",
     "output_type": "stream",
     "text": [
      "<pymysql.cursors.Cursor object at 0x0000018EBCB32E10>\n"
     ]
    }
   ],
   "source": [
    "# Getting the cursor details\n",
    "print(cursor)"
   ]
  },
  {
   "cell_type": "code",
   "execution_count": 4,
   "id": "86d8b3e3-bbf5-48ab-a983-718f27921687",
   "metadata": {},
   "outputs": [
    {
     "data": {
      "text/plain": [
       "0"
      ]
     },
     "execution_count": 4,
     "metadata": {},
     "output_type": "execute_result"
    }
   ],
   "source": [
    "# Creating the \"BigMart\" database \n",
    "cursor.execute(\"CREATE DATABASE IF NOT EXISTS BigMart;\")\n",
    "cursor.execute(\"USE BigMart;\")"
   ]
  },
  {
   "cell_type": "code",
   "execution_count": null,
   "id": "82962141-8719-4116-9c25-9f962073f87c",
   "metadata": {},
   "outputs": [],
   "source": [
    "'''\n",
    "Please refresh you MySQL Schemas and verify if you are able to get \"Bigmart\" database.\n",
    "'''"
   ]
  },
  {
   "cell_type": "code",
   "execution_count": 7,
   "id": "2eeb90e2-5501-47bf-b153-45fea7a42bdc",
   "metadata": {},
   "outputs": [],
   "source": [
    "# Loading the 3 xml files\n",
    "df_item = pd.read_xml(\"C:/Users/jaipu/Documents/Black_Elephant/Weekend_January/Data_Engineering_Project/df_item.xml\")\n",
    "df_outlet = pd.read_xml(\"C:/Users/jaipu/Documents/Black_Elephant/Weekend_January/Data_Engineering_Project/df_outlet.xml\")\n",
    "df_sales = pd.read_xml(\"C:/Users/jaipu/Documents/Black_Elephant/Weekend_January/Data_Engineering_Project/df_sales.xml\")"
   ]
  },
  {
   "cell_type": "code",
   "execution_count": 8,
   "id": "5d8cf296-e41c-4978-ba7a-2fe007f7e8e9",
   "metadata": {},
   "outputs": [],
   "source": [
    "# Creating function for creating tables \n",
    "def create_table_from_df(df, table_name):\n",
    "    cols = []\n",
    "    for col in df.columns:\n",
    "        dtype = df[col].dtype\n",
    "        if 'int' in str(dtype):\n",
    "            sql_type = 'INT'\n",
    "        elif 'float' in str(dtype):\n",
    "            sql_type = 'FLOAT'\n",
    "        else:\n",
    "            sql_type = 'VARCHAR(255)'\n",
    "        cols.append(f\"{col} {sql_type}\")\n",
    "\n",
    "    columns_sql = \", \".join(cols)\n",
    "    create_sql = f\"CREATE TABLE IF NOT EXISTS {table_name} ({columns_sql})\"\n",
    "    cursor.execute(create_sql)"
   ]
  },
  {
   "cell_type": "code",
   "execution_count": 9,
   "id": "ee78927b-7781-412f-8cb4-f856525b555e",
   "metadata": {},
   "outputs": [],
   "source": [
    "# Creating table in database\n",
    "create_table_from_df(df_item, \"item_info\")\n",
    "create_table_from_df(df_outlet, \"outlet_info\")\n",
    "create_table_from_df(df_sales, \"sales_info\")"
   ]
  },
  {
   "cell_type": "code",
   "execution_count": null,
   "id": "f3e538f1-f69d-4a1c-9195-93129ae977cf",
   "metadata": {},
   "outputs": [],
   "source": [
    "# Please confirm if the tables got created in MySQL Database \"Bigmart\""
   ]
  },
  {
   "cell_type": "code",
   "execution_count": 15,
   "id": "f2518af6-572a-431b-a520-a6db438932a4",
   "metadata": {},
   "outputs": [],
   "source": [
    "# Creating a function to insert the data into tables \n",
    "def insert_data(df, table_name):\n",
    "    df = df.where(pd.notnull(df), None) # Replace NaN entry with NULL \n",
    "    cols = \",\".join([f\"`{col}`\" for col in df.columns])\n",
    "    placeholders = \",\".join([\"%s\"] * len(df.columns))\n",
    "    insert_sql = f\"INSERT INTO `{table_name}` ({cols}) VALUES ({placeholders})\"\n",
    "    data = [tuple(row) for row in df.itertuples(index = False, name = None)]\n",
    "    cursor.executemany(insert_sql, data)"
   ]
  },
  {
   "cell_type": "code",
   "execution_count": 16,
   "id": "11dea5a8-7960-41e8-a6ad-5c6806fb08cf",
   "metadata": {},
   "outputs": [],
   "source": [
    "# Inserting the data into MySQL Tables\n",
    "insert_data(df_item, 'item_info')\n",
    "insert_data(df_outlet, 'outlet_info')\n",
    "insert_data(df_sales, 'sales_info')"
   ]
  },
  {
   "cell_type": "code",
   "execution_count": null,
   "id": "6cbc0b77-bcba-4b49-868c-c8c248ba623b",
   "metadata": {},
   "outputs": [],
   "source": [
    "# Please check in MySQL whether we have correctly updated the data or not."
   ]
  },
  {
   "cell_type": "code",
   "execution_count": 17,
   "id": "b011572a-05b4-43d2-88a1-675bef6266b4",
   "metadata": {},
   "outputs": [],
   "source": [
    "# Closing the connection \n",
    "cursor.close()\n",
    "connection.close()"
   ]
  },
  {
   "cell_type": "code",
   "execution_count": null,
   "id": "256209fa-4b94-4d83-9a00-a3b1e79597d0",
   "metadata": {},
   "outputs": [],
   "source": []
  }
 ],
 "metadata": {
  "kernelspec": {
   "display_name": "venv",
   "language": "python",
   "name": "python3"
  },
  "language_info": {
   "codemirror_mode": {
    "name": "ipython",
    "version": 3
   },
   "file_extension": ".py",
   "mimetype": "text/x-python",
   "name": "python",
   "nbconvert_exporter": "python",
   "pygments_lexer": "ipython3",
   "version": "3.11.11"
  }
 },
 "nbformat": 4,
 "nbformat_minor": 5
}
